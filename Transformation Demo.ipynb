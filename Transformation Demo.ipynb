{
 "cells": [
  {
   "cell_type": "markdown",
   "metadata": {},
   "source": [
    "## Transformation Demo\n",
    "##### This notebook demonstrates how to use the astro library to transform from one coordinate system to another"
   ]
  },
  {
   "cell_type": "code",
   "execution_count": null,
   "metadata": {
    "collapsed": true
   },
   "outputs": [],
   "source": [
    "from astro import Transform\n",
    "import numpy as np"
   ]
  },
  {
   "cell_type": "markdown",
   "metadata": {},
   "source": [
    "Define orbital elements of interest and convert to appropriate units (km, s, rad)"
   ]
  },
  {
   "cell_type": "code",
   "execution_count": null,
   "metadata": {
    "collapsed": true
   },
   "outputs": [],
   "source": [
    "d2r = np.pi/180.\n",
    "r2d = 180./np.pi"
   ]
  },
  {
   "cell_type": "code",
   "execution_count": null,
   "metadata": {
    "collapsed": true
   },
   "outputs": [],
   "source": [
    "# Test orbital parameters\n",
    "a = 1.52854101  # SMA, AU\n",
    "e = 0.51809438\n",
    "i = 4.42575336 * d2r\n",
    "node = 304.98756885 * d2r\n",
    "w = 281.25948665 * d2r\n",
    "TA = 39.59664935 * d2r\n",
    "\n",
    "# Convert SMA to km\n",
    "AU = 149597870.0     # conversion from AU to km\n",
    "a = a * AU"
   ]
  },
  {
   "cell_type": "markdown",
   "metadata": {},
   "source": [
    "Instantiate class and convert elements to cartesian"
   ]
  },
  {
   "cell_type": "code",
   "execution_count": null,
   "metadata": {
    "collapsed": true
   },
   "outputs": [],
   "source": [
    "trans = Transform()\n",
    "r, v = trans.classical_to_cartesian(a, e, i, node, w, TA)"
   ]
  },
  {
   "cell_type": "markdown",
   "metadata": {},
   "source": [
    "Print results"
   ]
  },
  {
   "cell_type": "code",
   "execution_count": null,
   "metadata": {},
   "outputs": [],
   "source": [
    "print(\"Position: %s km\" % r)\n",
    "print(\"Velocity: %s km/s\" % v)"
   ]
  },
  {
   "cell_type": "markdown",
   "metadata": {},
   "source": [
    "Convert back to orbit elements"
   ]
  },
  {
   "cell_type": "code",
   "execution_count": null,
   "metadata": {},
   "outputs": [],
   "source": [
    "a, e, i, node, w, TA = trans.cartesian_to_classical(r, v)\n",
    "print(\"SMA: %s AU\" %(a / AU))\n",
    "print(\"Ecc %s\" %e)\n",
    "print(\"Inc: %s deg\" %(i * r2d))\n",
    "print(\"RAAN: %s deg\" %(node * r2d))\n",
    "print(\"Arg of per: %s deg\" %(w * r2d))\n",
    "print(\"True anomaly: %s deg\" %(TA * r2d))"
   ]
  }
 ],
 "metadata": {
  "kernelspec": {
   "display_name": "Python 3",
   "language": "python",
   "name": "python3"
  },
  "language_info": {
   "codemirror_mode": {
    "name": "ipython",
    "version": 3
   },
   "file_extension": ".py",
   "mimetype": "text/x-python",
   "name": "python",
   "nbconvert_exporter": "python",
   "pygments_lexer": "ipython3",
   "version": "3.6.2"
  }
 },
 "nbformat": 4,
 "nbformat_minor": 1
}
